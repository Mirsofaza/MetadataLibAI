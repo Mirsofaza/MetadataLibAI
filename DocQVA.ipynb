{
 "cells": [
  {
   "cell_type": "code",
   "execution_count": 4,
   "id": "4a88e1d3",
   "metadata": {},
   "outputs": [
    {
     "name": "stdout",
     "output_type": "stream",
     "text": [
      "Running on local URL:  http://127.0.0.1:7862\n",
      "\n",
      "To create a public link, set `share=True` in `launch()`.\n"
     ]
    },
    {
     "data": {
      "text/html": [
       "<div><iframe src=\"http://127.0.0.1:7862/\" width=\"100%\" height=\"500\" allow=\"autoplay; camera; microphone; clipboard-read; clipboard-write;\" frameborder=\"0\" allowfullscreen></iframe></div>"
      ],
      "text/plain": [
       "<IPython.core.display.HTML object>"
      ]
     },
     "metadata": {},
     "output_type": "display_data"
    },
    {
     "data": {
      "text/plain": []
     },
     "execution_count": 4,
     "metadata": {},
     "output_type": "execute_result"
    }
   ],
   "source": [
    "import argparse\n",
    "import gradio as gr\n",
    "import torch\n",
    "from PIL import Image\n",
    "\n",
    "\n",
    "from donut import DonutModel\n",
    "\n",
    "def demo_process_vqa(input_img, question):\n",
    "    global pretrained_model, task_prompt, task_name\n",
    "    input_img = Image.fromarray(input_img)\n",
    "    user_prompt = task_prompt.replace(\"{user_input}\", question)\n",
    "    output = pretrained_model.inference(input_img, prompt=user_prompt)[\"predictions\"][0]\n",
    "    return output\n",
    "\n",
    "\n",
    "def demo_process(input_img):\n",
    "    global pretrained_model, task_prompt, task_name\n",
    "    input_img = Image.fromarray(input_img)\n",
    "    output = pretrained_model.inference(image=input_img, prompt=task_prompt)[\"predictions\"][0]\n",
    "    return output\n",
    "\n",
    "parser = argparse.ArgumentParser()\n",
    "parser.add_argument(\"--task\", type=str, default=\"docvqa\")\n",
    "parser.add_argument(\"--pretrained_path\", type=str, default=\"naver-clova-ix/donut-base-finetuned-docvqa\")\n",
    "args, left_argv = parser.parse_known_args()\n",
    "\n",
    "task_name = args.task\n",
    "if \"docvqa\" == task_name:\n",
    "    task_prompt = \"<s_docvqa><s_question>{user_input}</s_question><s_answer>\"\n",
    "else:  # rvlcdip, cord, ...\n",
    "    task_prompt = f\"<s_{task_name}>\"\n",
    "\n",
    "pretrained_model = DonutModel.from_pretrained(args.pretrained_path)\n",
    "\n",
    "if torch.cuda.is_available():\n",
    "    pretrained_model.half()\n",
    "    device = torch.device(\"cuda\")\n",
    "    pretrained_model.to(device)\n",
    "else:\n",
    "    pretrained_model.encoder.to(torch.bfloat16)\n",
    "\n",
    "pretrained_model.eval()\n",
    "\n",
    "demo = gr.Interface(\n",
    "    fn=demo_process_vqa if task_name == \"docvqa\" else demo_process,\n",
    "    inputs=[\"image\", \"text\"] if task_name == \"docvqa\" else \"image\",\n",
    "    outputs=\"json\",\n",
    "    title=f\"Donut 🍩 demonstration for `{task_name}` task\",\n",
    ")\n",
    "demo.launch()\n"
   ]
  },
  {
   "cell_type": "code",
   "execution_count": null,
   "id": "c5525ffc",
   "metadata": {},
   "outputs": [],
   "source": []
  }
 ],
 "metadata": {
  "kernelspec": {
   "display_name": "Python 3 (ipykernel)",
   "language": "python",
   "name": "python3"
  },
  "language_info": {
   "codemirror_mode": {
    "name": "ipython",
    "version": 3
   },
   "file_extension": ".py",
   "mimetype": "text/x-python",
   "name": "python",
   "nbconvert_exporter": "python",
   "pygments_lexer": "ipython3",
   "version": "3.9.13"
  }
 },
 "nbformat": 4,
 "nbformat_minor": 5
}
